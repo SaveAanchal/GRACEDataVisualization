{
  "nbformat": 4,
  "nbformat_minor": 0,
  "metadata": {
    "colab": {
      "provenance": [],
      "gpuType": "T4",
      "authorship_tag": "ABX9TyPf6aFrairngF9oJ0+vF60p",
      "include_colab_link": true
    },
    "kernelspec": {
      "name": "python3",
      "display_name": "Python 3"
    },
    "language_info": {
      "name": "python"
    }
  },
  "cells": [
    {
      "cell_type": "markdown",
      "metadata": {
        "id": "view-in-github",
        "colab_type": "text"
      },
      "source": [
        "<a href=\"https://colab.research.google.com/github/SaveAanchal/GRACEDataVisualization/blob/main/GRACEDataVisualization.ipynb\" target=\"_parent\"><img src=\"https://colab.research.google.com/assets/colab-badge.svg\" alt=\"Open In Colab\"/></a>"
      ]
    },
    {
      "cell_type": "markdown",
      "source": [
        "#**CSR GRACE/GRACE-FO Mascon Data Visualization Tool**\n",
        "\n",
        "Go to runtime -> run all\n",
        "\n",
        "OR\n",
        "\n",
        "Individually click the run (play button) for **both** the 'Installation and Setup' and 'Produce Maps' cells one after the other.\n",
        "\n",
        "Use the toolbars to zoom, change the color scale, choose date, etc. You can just reset the map by clicking the \"Produce Maps\" play button again.\n",
        "\n",
        "Rerunning \"Installation and Setup\" is not necessary within 30 minutes of activity."
      ],
      "metadata": {
        "id": "rBR5OneAwUhK"
      }
    },
    {
      "cell_type": "code",
      "source": [
        "#@title **Installation and Setup [Press play below]**\n",
        "\n",
        "'''\n",
        "Copyright (c) 2023 Aanchal Save\n",
        "\n",
        "Available for personal and professional use and distribution with or without modification\n",
        "\n",
        "'''\n",
        "\n",
        "print('installing packages...')\n",
        "!pip install netCDF4 &> /dev/null\n",
        "!pip install numpy &> /dev/null\n",
        "!pip install matplotlib.pyplot &> /dev/null\n",
        "!pip install basemap &> /dev/null\n",
        "!pip install ipywidgets &> /dev/null\n",
        "!pip install datetime &> /dev/null\n",
        "!pip install pytest-warnings &> /dev/null\n",
        "!pip install requests &> /dev/null\n",
        "!pip install matplotlib &> /dev/null\n",
        "!pip install ipympl &> /dev/null\n",
        "\n",
        "%matplotlib widget\n",
        "from netCDF4 import Dataset\n",
        "import numpy as np\n",
        "import matplotlib.pyplot as plt\n",
        "from mpl_toolkits.basemap import Basemap\n",
        "import ipywidgets as widgets\n",
        "import datetime\n",
        "import warnings\n",
        "import requests\n",
        "from google.colab import output\n",
        "output.enable_custom_widget_manager()\n",
        "\n",
        "warnings.filterwarnings('ignore')\n",
        "\n",
        "print('downloading data...')\n",
        "url = \"http://download.csr.utexas.edu/outgoing/grace/RL06_mascons/CSR_GRACE_GRACE-FO_RL06_Mascons_all-corrections_v02.nc#mode=bytes\"\n",
        "r = requests.get(url, allow_redirects=True).content\n",
        "data = Dataset(\"name\", memory=r)\n",
        "\n",
        "lats = data.variables['lat'][:]\n",
        "lons = data.variables['lon'][:]\n",
        "time = data.variables['time'][:]\n",
        "lwe = data.variables['lwe_thickness'][:]\n",
        "\n",
        "timeDays = []\n",
        "\n",
        "print('done!')"
      ],
      "metadata": {
        "id": "i-Xq7wIAkTUn",
        "cellView": "form"
      },
      "execution_count": null,
      "outputs": []
    },
    {
      "cell_type": "code",
      "source": [
        "#@title **Produce Maps (Click run to reset map) [Press play below]**\n",
        "\n",
        "'''\n",
        "Copyright (c) 2023 Aanchal Save\n",
        "\n",
        "Available for personal and professional use and distribution with or without modification\n",
        "\n",
        "'''\n",
        "\n",
        "print('creating maps...')\n",
        "fig = plt.figure(figsize = (11, 4))\n",
        "for i in time:\n",
        "    timeDays.append((datetime.datetime(2002,1,1,0,0) + datetime.timedelta(days = int(i))).strftime(\"%Y-%m-%d\"))\n",
        "\n",
        "# map lon values to -180..180 range\n",
        "f = lambda x: ((x+180) % 360) - 180\n",
        "tmprt_lon = f(lons)\n",
        "# rearange data\n",
        "ind = np.argsort(tmprt_lon)\n",
        "lons = tmprt_lon[ind]\n",
        "lwe = lwe[:, :, ind]\n",
        "\n",
        "mp = Basemap(projection = 'robin', resolution = 'i', lon_0 = 0, lat_0 = 0)\n",
        "\n",
        "lon, lat = np.meshgrid(lons, lats)\n",
        "\n",
        "x, y = mp(lon, lat)\n",
        "\n",
        "style = {'description_width': 'initial'}\n",
        "\n",
        "time_case = widgets.Dropdown(\n",
        "    options = timeDays,\n",
        "    value = timeDays[0],\n",
        "    description = 'Choose a month ',\n",
        "    disabled = False,\n",
        "    style = style\n",
        ")\n",
        "\n",
        "color_bounds = widgets.Dropdown(\n",
        "    options = [15, 20, 25, 30, 50, 100],\n",
        "    value = 20,\n",
        "    description = 'Choose desired color scale ',\n",
        "    disabled = False,\n",
        "    style = style\n",
        ")\n",
        "\n",
        "color_map = widgets.Dropdown(\n",
        "    options = ['PiYG', 'PRGn', 'BrBG', 'PuOr', 'RdGy', 'RdBu', 'RdYlBu','RdYlGn', 'Spectral', 'coolwarm', 'bwr', 'seismic'],\n",
        "    value = 'Spectral',\n",
        "    description = 'Choose a color map ',\n",
        "    disabled = False,\n",
        "    style = style\n",
        ")\n",
        "\n",
        "mp.drawcoastlines()\n",
        "\n",
        "c_scheme = mp.pcolormesh(x, y, np.squeeze(lwe[0,:,:]), cmap = 'Spectral', vmin = -25, vmax = 25)\n",
        "cbar = mp.colorbar(c_scheme, location = 'right', pad = '10%')\n",
        "\n",
        "def makeMap(timeVal, boundsVal, cmapVal):\n",
        "    monthNum = timeDays.index(timeVal)\n",
        "    c_scheme = mp.pcolormesh(x, y, np.squeeze(lwe[monthNum,:,:]), cmap = cmapVal, vmin = -boundsVal, vmax = boundsVal)\n",
        "    global cbar\n",
        "    cbar.remove()\n",
        "    cbar = mp.colorbar(c_scheme, location = 'right', pad = '10%')\n",
        "    hasColorBar = True\n",
        "    plt.title(f'Total Water Storage ({timeDays[monthNum]})')\n",
        "\n",
        "fig.canvas.header_visible = False\n",
        "fig.canvas.footer_visible = False\n",
        "\n",
        "plt.show()\n",
        "\n",
        "widgets.interactive(makeMap, timeVal=time_case, boundsVal = color_bounds, cmapVal = color_map)"
      ],
      "metadata": {
        "cellView": "form",
        "id": "hTj9UVHe6cZ_"
      },
      "execution_count": null,
      "outputs": []
    },
    {
      "cell_type": "markdown",
      "source": [
        "# **Acknowledgements:**\n",
        "\n",
        "GRACE/GRACE-FO Data downloaded from: http://www2.csr.utexas.edu/grace\n",
        "\n",
        "Contact the author:\n",
        "\n",
        "https://aanchalsave.com\n",
        "\n",
        "saveaanchal@gmail.com\n",
        "\n",
        "https://github.com/SaveAanchal"
      ],
      "metadata": {
        "id": "3NrebXxosvUV"
      }
    }
  ]
}